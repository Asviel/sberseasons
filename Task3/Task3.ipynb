{
 "cells": [
  {
   "cell_type": "code",
   "execution_count": 1,
   "metadata": {},
   "outputs": [],
   "source": [
    "# TF - 1.13.1, scikit-learn - 0.20.3, numpy - 1.16.2, pandas - 0.24.2, matplotlib 3.0.3\n",
    "\n",
    "from tensorflow.keras.models import Sequential\n",
    "from tensorflow.keras.layers import Dense, Conv2D, MaxPooling2D, Dropout, Flatten \n",
    "from tensorflow.keras import utils\n",
    "from tensorflow.keras.preprocessing.image import ImageDataGenerator\n",
    "from sklearn.model_selection import train_test_split\n",
    "import numpy as np\n",
    "import pandas as pd\n",
    "import tensorflow as tf\n",
    "import matplotlib.pyplot as plt"
   ]
  },
  {
   "cell_type": "code",
   "execution_count": 2,
   "metadata": {},
   "outputs": [],
   "source": [
    "X = pd.read_csv('../data/csv_x.csv')\n",
    "y = pd.read_csv('../data/csv_y.csv')"
   ]
  },
  {
   "cell_type": "markdown",
   "metadata": {},
   "source": [
    "#### Посмотрим, что из себя представляет датасет"
   ]
  },
  {
   "cell_type": "code",
   "execution_count": 3,
   "metadata": {},
   "outputs": [
    {
     "data": {
      "text/html": [
       "<div>\n",
       "<style scoped>\n",
       "    .dataframe tbody tr th:only-of-type {\n",
       "        vertical-align: middle;\n",
       "    }\n",
       "\n",
       "    .dataframe tbody tr th {\n",
       "        vertical-align: top;\n",
       "    }\n",
       "\n",
       "    .dataframe thead th {\n",
       "        text-align: right;\n",
       "    }\n",
       "</style>\n",
       "<table border=\"1\" class=\"dataframe\">\n",
       "  <thead>\n",
       "    <tr style=\"text-align: right;\">\n",
       "      <th></th>\n",
       "      <th>10</th>\n",
       "    </tr>\n",
       "  </thead>\n",
       "  <tbody>\n",
       "    <tr>\n",
       "      <th>0</th>\n",
       "      <td>10</td>\n",
       "    </tr>\n",
       "  </tbody>\n",
       "</table>\n",
       "</div>"
      ],
      "text/plain": [
       "   10\n",
       "0  10"
      ]
     },
     "execution_count": 3,
     "metadata": {},
     "output_type": "execute_result"
    }
   ],
   "source": [
    "y.head(1) # Чтобы узнать, как обращаться к столбцу"
   ]
  },
  {
   "cell_type": "code",
   "execution_count": 4,
   "metadata": {},
   "outputs": [
    {
     "data": {
      "text/plain": [
       "7     500\n",
       "2     500\n",
       "5     500\n",
       "4     500\n",
       "10    498\n",
       "9     495\n",
       "3     489\n",
       "6     489\n",
       "1     489\n",
       "8     489\n",
       "Name: 10, dtype: int64"
      ]
     },
     "execution_count": 4,
     "metadata": {},
     "output_type": "execute_result"
    }
   ],
   "source": [
    "y['10'].value_counts()"
   ]
  },
  {
   "cell_type": "markdown",
   "metadata": {},
   "source": [
    "Теперь мы знаем, что у нас примерно по 500 изображения каждой цифры. А еще метка цифры 0 почему-то превратилась в 10. Исправим это."
   ]
  },
  {
   "cell_type": "code",
   "execution_count": 5,
   "metadata": {},
   "outputs": [],
   "source": [
    "y = y['10'].map(lambda x: 0 if x == 10 else x)"
   ]
  },
  {
   "cell_type": "markdown",
   "metadata": {},
   "source": [
    "Представим плоское представление каждой цифры (вектор длины 400) в изначальном виде (матрицы 20х20, или картинки)."
   ]
  },
  {
   "cell_type": "code",
   "execution_count": 6,
   "metadata": {},
   "outputs": [],
   "source": [
    "digit_shape = (20, 20)\n",
    "digits = X.values.reshape(X.shape[0], *digit_shape)"
   ]
  },
  {
   "cell_type": "code",
   "execution_count": 7,
   "metadata": {},
   "outputs": [
    {
     "data": {
      "image/png": "[encoded data removed]",
      "text/plain": [
       "<Figure size 1584x432 with 10 Axes>"
      ]
     },
     "metadata": {
      "needs_background": "light"
     },
     "output_type": "display_data"
    }
   ],
   "source": [
    "fig, ax = plt.subplots(1, 10, figsize=(22, 6))\n",
    "digit_idx = 0\n",
    "for i in range(10):\n",
    "    ax[i].imshow(digits[digit_idx])\n",
    "    digit_idx += 500"
   ]
  },
  {
   "cell_type": "markdown",
   "metadata": {},
   "source": [
    "Хмм, очень похоже на аугментированный датасет MNIST, а именно отраженные по вертикали/горизонтали и повернутые на 90 градусов по/против часовой стрелки (ну еще расширение поджато, не будем это учитывать). Хорошо, учтем это при обучении."
   ]
  },
  {
   "cell_type": "code",
   "execution_count": 8,
   "metadata": {},
   "outputs": [],
   "source": [
    "input_shape = (20, 20, 1) # # TensorFlow использует 4 измерение как количество каналов изображения, у нас он 1 (градации серого)\n",
    "X = X.values.reshape(X.shape[0], *input_shape)"
   ]
  },
  {
   "cell_type": "code",
   "execution_count": 9,
   "metadata": {},
   "outputs": [],
   "source": [
    "y = utils.to_categorical(y) # Представим метки в виде One-Hot векторов"
   ]
  },
  {
   "cell_type": "code",
   "execution_count": 10,
   "metadata": {},
   "outputs": [],
   "source": [
    "X_train, X_test, y_train, y_test = train_test_split(X, y, test_size=0.1, shuffle=True, random_state=42)"
   ]
  },
  {
   "cell_type": "markdown",
   "metadata": {},
   "source": [
    "Воспользуемся генератором аугментированных данных. Поставим в доступные ему способы трансформации, известную нам информацию."
   ]
  },
  {
   "cell_type": "code",
   "execution_count": 11,
   "metadata": {},
   "outputs": [],
   "source": [
    "datagen = ImageDataGenerator(horizontal_flip=1, rotation_range=90)"
   ]
  },
  {
   "cell_type": "markdown",
   "metadata": {},
   "source": [
    "Построим обычную CNNку. У нас многоклассовая классификация, значит softmax, в качестве активации (будет возвращать вероятности принадлежности к классу) и перекрестная энтропия в качестве функции ошибки. Качество будем смотреть по доле правильных ответов."
   ]
  },
  {
   "cell_type": "code",
   "execution_count": 14,
   "metadata": {},
   "outputs": [],
   "source": [
    "model = Sequential()\n",
    "\n",
    "model.add(Conv2D(input_shape=input_shape, filters=32, kernel_size=(5, 5), padding='same', activation='relu'))\n",
    "model.add(Conv2D(filters=32, kernel_size=(5, 5), padding='same', activation='relu'))\n",
    "model.add(MaxPooling2D(pool_size=(2, 2)))\n",
    "model.add(Dropout(0.25))\n",
    "\n",
    "model.add(Conv2D(filters=64, kernel_size=(3, 3), padding='same', activation='relu'))\n",
    "model.add(Conv2D(filters=64, kernel_size=(3, 3), padding='same', activation='relu'))\n",
    "model.add(MaxPooling2D(pool_size=(2, 2)))\n",
    "model.add(Dropout(0.25))\n",
    "\n",
    "model.add(Flatten())\n",
    "model.add(Dense(256, activation='relu'))\n",
    "model.add(Dropout(0.5))\n",
    "model.add(Dense(10, activation='softmax'))\n",
    "\n",
    "model.compile(loss='categorical_crossentropy', optimizer='adam', metrics=['accuracy'])"
   ]
  },
  {
   "cell_type": "code",
   "execution_count": 15,
   "metadata": {},
   "outputs": [
    {
     "name": "stdout",
     "output_type": "stream",
     "text": [
      "Epoch 1/30\n",
      "495/495 [==============================] - 0s 298us/sample - loss: 1.1110 - acc: 0.6404\n",
      "140/140 [==============================] - 2s 12ms/step - loss: 1.9190 - acc: 0.3029 - val_loss: 1.1073 - val_acc: 0.6404\n",
      "Epoch 2/30\n",
      "495/495 [==============================] - 0s 112us/sample - loss: 0.7679 - acc: 0.7394\n",
      "140/140 [==============================] - 1s 9ms/step - loss: 1.1394 - acc: 0.6152 - val_loss: 0.7606 - val_acc: 0.7394\n",
      "Epoch 3/30\n",
      "495/495 [==============================] - 0s 104us/sample - loss: 0.6006 - acc: 0.8182\n",
      "140/140 [==============================] - 1s 9ms/step - loss: 0.8204 - acc: 0.7299 - val_loss: 0.5999 - val_acc: 0.8182\n",
      "Epoch 4/30\n",
      "495/495 [==============================] - 0s 109us/sample - loss: 0.4369 - acc: 0.8707\n",
      "140/140 [==============================] - 1s 9ms/step - loss: 0.6320 - acc: 0.8051 - val_loss: 0.4423 - val_acc: 0.8707\n",
      "Epoch 5/30\n",
      "495/495 [==============================] - 0s 107us/sample - loss: 0.3554 - acc: 0.8949\n",
      "140/140 [==============================] - 1s 9ms/step - loss: 0.5327 - acc: 0.8354 - val_loss: 0.3598 - val_acc: 0.8949\n",
      "Epoch 6/30\n",
      "495/495 [==============================] - 0s 130us/sample - loss: 0.3140 - acc: 0.9010\n",
      "140/140 [==============================] - 1s 9ms/step - loss: 0.4707 - acc: 0.8552 - val_loss: 0.3136 - val_acc: 0.9010\n",
      "Epoch 7/30\n",
      "495/495 [==============================] - 0s 106us/sample - loss: 0.3199 - acc: 0.9071\n",
      "140/140 [==============================] - 1s 9ms/step - loss: 0.4374 - acc: 0.8626 - val_loss: 0.3163 - val_acc: 0.9071\n",
      "Epoch 8/30\n",
      "495/495 [==============================] - 0s 110us/sample - loss: 0.2595 - acc: 0.9253\n",
      "140/140 [==============================] - 1s 9ms/step - loss: 0.4173 - acc: 0.8696 - val_loss: 0.2646 - val_acc: 0.9253\n",
      "Epoch 9/30\n",
      "495/495 [==============================] - 0s 108us/sample - loss: 0.3200 - acc: 0.9030\n",
      "140/140 [==============================] - 1s 9ms/step - loss: 0.3874 - acc: 0.8801 - val_loss: 0.3243 - val_acc: 0.9030\n",
      "Epoch 10/30\n",
      "495/495 [==============================] - 0s 445us/sample - loss: 0.2680 - acc: 0.9232\n",
      "140/140 [==============================] - 1s 10ms/step - loss: 0.3455 - acc: 0.8949 - val_loss: 0.2667 - val_acc: 0.9232\n",
      "Epoch 11/30\n",
      "495/495 [==============================] - 0s 106us/sample - loss: 0.2791 - acc: 0.9192\n",
      "140/140 [==============================] - 1s 9ms/step - loss: 0.3361 - acc: 0.8967 - val_loss: 0.2780 - val_acc: 0.9192\n",
      "Epoch 12/30\n",
      "495/495 [==============================] - 0s 107us/sample - loss: 0.2555 - acc: 0.9333\n",
      "140/140 [==============================] - 1s 9ms/step - loss: 0.3332 - acc: 0.8996 - val_loss: 0.2518 - val_acc: 0.9333\n",
      "Epoch 13/30\n",
      "495/495 [==============================] - 0s 129us/sample - loss: 0.2317 - acc: 0.9333\n",
      "140/140 [==============================] - 1s 9ms/step - loss: 0.3198 - acc: 0.9044 - val_loss: 0.2344 - val_acc: 0.9333\n",
      "Epoch 14/30\n",
      "495/495 [==============================] - 0s 110us/sample - loss: 0.2449 - acc: 0.9232\n",
      "140/140 [==============================] - 1s 9ms/step - loss: 0.3060 - acc: 0.9066 - val_loss: 0.2417 - val_acc: 0.9232\n",
      "Epoch 15/30\n",
      "495/495 [==============================] - 0s 143us/sample - loss: 0.2204 - acc: 0.9293\n",
      "140/140 [==============================] - 1s 9ms/step - loss: 0.2929 - acc: 0.9118 - val_loss: 0.2198 - val_acc: 0.9293\n",
      "Epoch 16/30\n",
      "495/495 [==============================] - 0s 107us/sample - loss: 0.1673 - acc: 0.9475\n",
      "140/140 [==============================] - 1s 9ms/step - loss: 0.2825 - acc: 0.9176 - val_loss: 0.1634 - val_acc: 0.9475\n",
      "Epoch 17/30\n",
      "495/495 [==============================] - 0s 121us/sample - loss: 0.2571 - acc: 0.9333\n",
      "140/140 [==============================] - 1s 9ms/step - loss: 0.2719 - acc: 0.9167 - val_loss: 0.2566 - val_acc: 0.9333\n",
      "Epoch 18/30\n",
      "495/495 [==============================] - 0s 101us/sample - loss: 0.2136 - acc: 0.9333\n",
      "140/140 [==============================] - 1s 9ms/step - loss: 0.2611 - acc: 0.9232 - val_loss: 0.2108 - val_acc: 0.9333\n",
      "Epoch 19/30\n",
      "495/495 [==============================] - 0s 124us/sample - loss: 0.1947 - acc: 0.9475\n",
      "140/140 [==============================] - 1s 9ms/step - loss: 0.2636 - acc: 0.9201 - val_loss: 0.1901 - val_acc: 0.9475\n",
      "Epoch 20/30\n",
      "495/495 [==============================] - 0s 105us/sample - loss: 0.1767 - acc: 0.9394\n",
      "140/140 [==============================] - 1s 9ms/step - loss: 0.2697 - acc: 0.9228 - val_loss: 0.1725 - val_acc: 0.9394\n",
      "Epoch 21/30\n",
      "495/495 [==============================] - 0s 104us/sample - loss: 0.1901 - acc: 0.9394\n",
      "140/140 [==============================] - 1s 9ms/step - loss: 0.2520 - acc: 0.9225 - val_loss: 0.1885 - val_acc: 0.9394\n",
      "Epoch 22/30\n",
      "495/495 [==============================] - 0s 105us/sample - loss: 0.1706 - acc: 0.9515\n",
      "140/140 [==============================] - 1s 9ms/step - loss: 0.2403 - acc: 0.9295 - val_loss: 0.1664 - val_acc: 0.9515\n",
      "Epoch 23/30\n",
      "495/495 [==============================] - 0s 110us/sample - loss: 0.1554 - acc: 0.9394\n",
      "140/140 [==============================] - 1s 9ms/step - loss: 0.2332 - acc: 0.9286 - val_loss: 0.1516 - val_acc: 0.9394\n",
      "Epoch 24/30\n",
      "495/495 [==============================] - 0s 105us/sample - loss: 0.1490 - acc: 0.9475\n",
      "140/140 [==============================] - 1s 9ms/step - loss: 0.2421 - acc: 0.9293 - val_loss: 0.1470 - val_acc: 0.9475\n",
      "Epoch 25/30\n",
      "495/495 [==============================] - 0s 101us/sample - loss: 0.1425 - acc: 0.9616\n",
      "140/140 [==============================] - 1s 9ms/step - loss: 0.2279 - acc: 0.9358 - val_loss: 0.1389 - val_acc: 0.9616\n",
      "Epoch 26/30\n",
      "495/495 [==============================] - 0s 112us/sample - loss: 0.1278 - acc: 0.9596\n",
      "140/140 [==============================] - 1s 9ms/step - loss: 0.2267 - acc: 0.9306 - val_loss: 0.1285 - val_acc: 0.9596\n",
      "Epoch 27/30\n",
      "495/495 [==============================] - 0s 127us/sample - loss: 0.1638 - acc: 0.9576\n",
      "140/140 [==============================] - 1s 9ms/step - loss: 0.2117 - acc: 0.9387 - val_loss: 0.1604 - val_acc: 0.9576\n",
      "Epoch 28/30\n",
      "495/495 [==============================] - 0s 110us/sample - loss: 0.1995 - acc: 0.9455\n",
      "140/140 [==============================] - 1s 9ms/step - loss: 0.2261 - acc: 0.9293 - val_loss: 0.2088 - val_acc: 0.9455\n",
      "Epoch 29/30\n",
      "495/495 [==============================] - 0s 112us/sample - loss: 0.1984 - acc: 0.9374\n",
      "140/140 [==============================] - 1s 9ms/step - loss: 0.2243 - acc: 0.9329 - val_loss: 0.1935 - val_acc: 0.9374\n",
      "Epoch 30/30\n",
      "495/495 [==============================] - 0s 121us/sample - loss: 0.1544 - acc: 0.9657\n",
      "140/140 [==============================] - 1s 9ms/step - loss: 0.1971 - acc: 0.9389 - val_loss: 0.1518 - val_acc: 0.9657\n"
     ]
    },
    {
     "data": {
      "text/plain": [
       "<tensorflow.python.keras.callbacks.History at 0x106b17e4860>"
      ]
     },
     "execution_count": 15,
     "metadata": {},
     "output_type": "execute_result"
    }
   ],
   "source": [
    "model.fit(datagen.flow(X_train, y_train), epochs=30, validation_data=(X_test, y_test), verbose=1)"
   ]
  },
  {
   "cell_type": "markdown",
   "metadata": {},
   "source": [
    "Итак, мы видим наше качество на тесте, оценка довольно неустойчивая, так как размер тестовой выборки очень скромный. Но, ей можно верить. Имеем около __95%__."
   ]
  },
  {
   "cell_type": "markdown",
   "metadata": {},
   "source": [
    "Если не использовать в обучении аугментирование данных, итоговое качество получается под __99%__ (я проверял). Но мы перестраховались, и решили научить нейронку \"смотреть на вещи шире\", потеряв при этом в качестве. В зависимости от потребностей задач, можно менять подход к обучению."
   ]
  },
  {
   "cell_type": "markdown",
   "metadata": {},
   "source": [
    "Так как мы учились на аугментированных данных, можно проверить качество модели на изначальных данных (оценка может оказаться завышенной, но не сильно)."
   ]
  },
  {
   "cell_type": "code",
   "execution_count": 16,
   "metadata": {},
   "outputs": [],
   "source": [
    "pred = model.predict(X)\n",
    "pred = np.argmax(pred, axis=1)\n",
    "y_true = np.argmax(y, axis=1)"
   ]
  },
  {
   "cell_type": "code",
   "execution_count": 19,
   "metadata": {},
   "outputs": [],
   "source": [
    "from sklearn.metrics import accuracy_score\n",
    "score = accuracy_score(y_true, pred)"
   ]
  },
  {
   "cell_type": "code",
   "execution_count": 23,
   "metadata": {},
   "outputs": [
    {
     "name": "stdout",
     "output_type": "stream",
     "text": [
      "Процент ошибок: 3.17 %\n"
     ]
    }
   ],
   "source": [
    "print('Процент ошибок:', np.round((1 - score) * 100, 2), '%')"
   ]
  },
  {
   "cell_type": "code",
   "execution_count": null,
   "metadata": {},
   "outputs": [],
   "source": []
  }
 ],
 "metadata": {
  "kernelspec": {
   "display_name": "Python 3",
   "language": "python",
   "name": "python3"
  },
  "language_info": {
   "codemirror_mode": {
    "name": "ipython",
    "version": 3
   },
   "file_extension": ".py",
   "mimetype": "text/x-python",
   "name": "python",
   "nbconvert_exporter": "python",
   "pygments_lexer": "ipython3",
   "version": "3.7.3"
  }
 },
 "nbformat": 4,
 "nbformat_minor": 2
}
